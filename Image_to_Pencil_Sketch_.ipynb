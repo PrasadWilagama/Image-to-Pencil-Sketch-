{
  "nbformat": 4,
  "nbformat_minor": 0,
  "metadata": {
    "colab": {
      "provenance": []
    },
    "kernelspec": {
      "name": "python3",
      "display_name": "Python 3"
    },
    "language_info": {
      "name": "python"
    }
  },
  "cells": [
    {
      "cell_type": "code",
      "source": [
        "pip install opencv-python numpy"
      ],
      "metadata": {
        "colab": {
          "base_uri": "https://localhost:8080/"
        },
        "id": "rtTOuIE4PbK-",
        "outputId": "0b2c528c-89b9-41ee-bf45-ac8ad1ed3876"
      },
      "execution_count": 2,
      "outputs": [
        {
          "output_type": "stream",
          "name": "stdout",
          "text": [
            "Requirement already satisfied: opencv-python in /usr/local/lib/python3.10/dist-packages (4.8.0.76)\n",
            "Requirement already satisfied: numpy in /usr/local/lib/python3.10/dist-packages (1.23.5)\n"
          ]
        }
      ]
    },
    {
      "cell_type": "code",
      "execution_count": 7,
      "metadata": {
        "id": "5GMhj9vNM7YY"
      },
      "outputs": [],
      "source": [
        "import cv2\n",
        "import numpy as np\n",
        "\n",
        "def convert_to_pencil_sketch(image_path):\n",
        "    # Read the image\n",
        "    image = cv2.imread(image_path)\n",
        "\n",
        "    # Convert the image to grayscale\n",
        "    gray_image = cv2.cvtColor(image, cv2.COLOR_BGR2GRAY)\n",
        "\n",
        "    # Invert the grayscale image\n",
        "    inverted_image = cv2.bitwise_not(gray_image)\n",
        "\n",
        "    # Blur the inverted image using the GaussianBlur function\n",
        "    blurred_image = cv2.GaussianBlur(inverted_image, (111, 111), 0)\n",
        "\n",
        "    # Invert the blurred image\n",
        "    inverted_blurred_image = cv2.bitwise_not(blurred_image)\n",
        "\n",
        "    # Create the pencil sketch image by blending the original and inverted blurred images\n",
        "    pencil_sketch = cv2.divide(gray_image, inverted_blurred_image, scale=256.0)\n",
        "\n",
        "    return pencil_sketch"
      ]
    },
    {
      "cell_type": "code",
      "source": [
        "# Replace 'input_image.jpg' with the path to your input image\n",
        "input_image_path = '/content/dp4.jpg'\n",
        "output_sketch = convert_to_pencil_sketch(input_image_path)\n",
        "\n",
        "# Save the output pencil sketch\n",
        "cv2.imwrite('output_pencil_sketch_4.jpg', output_sketch)"
      ],
      "metadata": {
        "colab": {
          "base_uri": "https://localhost:8080/"
        },
        "id": "fVlGlgYqPsnr",
        "outputId": "b174600d-220d-4b6f-97d7-2a640a7bbaf9"
      },
      "execution_count": 10,
      "outputs": [
        {
          "output_type": "execute_result",
          "data": {
            "text/plain": [
              "True"
            ]
          },
          "metadata": {},
          "execution_count": 10
        }
      ]
    }
  ]
}